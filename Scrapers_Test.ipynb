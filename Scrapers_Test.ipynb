{
  "nbformat": 4,
  "nbformat_minor": 0,
  "metadata": {
    "colab": {
      "name": "Scrapers Test.ipynb",
      "provenance": [],
      "authorship_tag": "ABX9TyN6LGTLbr04o4L9l5ila1Xi",
      "include_colab_link": true
    },
    "kernelspec": {
      "name": "python3",
      "display_name": "Python 3"
    }
  },
  "cells": [
    {
      "cell_type": "markdown",
      "metadata": {
        "id": "view-in-github",
        "colab_type": "text"
      },
      "source": [
        "<a href=\"https://colab.research.google.com/github/Edward-TL/La-Compra-Ideal/blob/master/Scrapers_Test.ipynb\" target=\"_parent\"><img src=\"https://colab.research.google.com/assets/colab-badge.svg\" alt=\"Open In Colab\"/></a>"
      ]
    },
    {
      "cell_type": "markdown",
      "metadata": {
        "id": "WCqfTb4gMfGF",
        "colab_type": "text"
      },
      "source": [
        "# Start\n"
      ]
    },
    {
      "cell_type": "code",
      "metadata": {
        "id": "cBUUBdOZMJqy",
        "colab_type": "code",
        "colab": {
          "base_uri": "https://localhost:8080/",
          "height": 34
        },
        "outputId": "a967d5b0-c772-4e08-8296-a306cce7d81e"
      },
      "source": [
        "from google.colab import drive\n",
        "drive.mount('/content/drive')"
      ],
      "execution_count": 1,
      "outputs": [
        {
          "output_type": "stream",
          "text": [
            "Mounted at /content/drive\n"
          ],
          "name": "stdout"
        }
      ]
    },
    {
      "cell_type": "markdown",
      "metadata": {
        "id": "CSe3DZBtMiQR",
        "colab_type": "text"
      },
      "source": [
        "# Import\n"
      ]
    },
    {
      "cell_type": "code",
      "metadata": {
        "id": "1ViKLWguMh9f",
        "colab_type": "code",
        "colab": {}
      },
      "source": [
        "#For the system\n",
        "import os\n",
        "\n",
        "#Manage of time\n",
        "from datetime import datetime, timedelta\n",
        "from pytz import timezone\n",
        "import time\n",
        "import re\n",
        "\n",
        "#Manage of files\n",
        "import pandas as pd\n",
        "import csv\n",
        "\n",
        "#scrap\n",
        "from bs4 import BeautifulSoup\n",
        "from openpyxl.workbook import Workbook\n",
        "import requests"
      ],
      "execution_count": 2,
      "outputs": []
    },
    {
      "cell_type": "markdown",
      "metadata": {
        "id": "pOG5mQ4MM_fA",
        "colab_type": "text"
      },
      "source": [
        "# Headers"
      ]
    },
    {
      "cell_type": "code",
      "metadata": {
        "id": "96sxB3CDM-bc",
        "colab_type": "code",
        "colab": {}
      },
      "source": [
        "headers_0 = {\"User-Agent\":\"Mozilla/5.0 (Windows NT 10.0; Win64;x64; rv:66.0) Gecko/20100101 Firefox/66.0\",\n",
        "           \"Accept-Encoding\":\"gzip, deflate\",\n",
        "           \"Accept\":\"text/html,application/xhtml+xml,application/xml;q=0.9,*/*;q=0.8\",\n",
        "           \"DNT\":\"1\",\n",
        "           \"Connection\":\"close\",\n",
        "           \"Upgrade-Insecure-Requests\":\"1\"}\n",
        "\n",
        "headers_1 = {\"User-Agent\": \"Mozilla/5.0 (Macintosh; Intel Mac OS X 10_14_5)AppleWebKit/605.1.15 (KHTML, like Gecko)Version/12.1.1 Safari/605.1.15\",\n",
        "           \"Accept-Encoding\":\"gzip, deflate\",\n",
        "           \"Accept\":\"text/html,application/xhtml+xml,application/xml;q=0.9,*/*;q=0.8\",\n",
        "           \"DNT\":\"1\",\n",
        "           \"Connection\":\"close\",\n",
        "           \"Upgrade-Insecure-Requests\":\"1\"}\n",
        "\n",
        "headers_2 = {\"User-Agent\": \"Mozilla/5.0 (Windows NT 10.0; Win64; x64) AppleWebKit/537.36 (KHTML, like Gecko) Chrome/75.0.3770.100 Safari/537.36\",\n",
        "           \"Accept-Encoding\":\"gzip, deflate\",\n",
        "           \"Accept\":\"text/html,application/xhtml+xml,application/xml;q=0.9,*/*;q=0.8\",\n",
        "           \"DNT\":\"1\",\n",
        "           \"Connection\":\"close\",\n",
        "           \"Upgrade-Insecure-Requests\":\"1\"}\n",
        "\n",
        "headers_tuple = (headers_1, headers_1, headers_2)"
      ],
      "execution_count": 3,
      "outputs": []
    },
    {
      "cell_type": "markdown",
      "metadata": {
        "id": "2nfc3oaTNIZD",
        "colab_type": "text"
      },
      "source": [
        "# Extract Soup"
      ]
    },
    {
      "cell_type": "code",
      "metadata": {
        "id": "qanvdnLlNHH7",
        "colab_type": "code",
        "colab": {}
      },
      "source": [
        "def extract_soup(url, header=0, preview=True):\n",
        "    headers = headers_tuple[header]\n",
        "    response = requests.get(url, headers=headers)\n",
        "    status = response.status_code\n",
        "\n",
        "    soup = BeautifulSoup(response.text, 'lxml')\n",
        "\n",
        "    if preview==True:\n",
        "        print(soup.prettify())\n",
        "\n",
        "    return soup, status"
      ],
      "execution_count": 5,
      "outputs": []
    },
    {
      "cell_type": "markdown",
      "metadata": {
        "id": "K89cLnBjNYrr",
        "colab_type": "text"
      },
      "source": [
        "# Tests"
      ]
    },
    {
      "cell_type": "code",
      "metadata": {
        "id": "ME5-z6NMSimY",
        "colab_type": "code",
        "colab": {}
      },
      "source": [
        "user_request = 'samsung smartwatch'\n",
        "country = 'mx'"
      ],
      "execution_count": 19,
      "outputs": []
    },
    {
      "cell_type": "markdown",
      "metadata": {
        "id": "aO_0S-J4NaSN",
        "colab_type": "text"
      },
      "source": [
        "## Amazon"
      ]
    },
    {
      "cell_type": "code",
      "metadata": {
        "id": "RzSfUp1wNdWd",
        "colab_type": "code",
        "colab": {
          "base_uri": "https://localhost:8080/",
          "height": 34
        },
        "outputId": "8b72bedc-3f5c-4ec3-a830-a62bec87e5e1"
      },
      "source": [
        "amz_user_request = user_request.replace(' ', '+')\n",
        "amz_url = f'https://www.amazon.com.{country}/s?k={amz_user_request}'\n",
        "amz_soup, amz_status = extract_soup(amz_url, 0, preview=False)\n",
        "print(amz_status)"
      ],
      "execution_count": 20,
      "outputs": [
        {
          "output_type": "stream",
          "text": [
            "200\n"
          ],
          "name": "stdout"
        }
      ]
    },
    {
      "cell_type": "markdown",
      "metadata": {
        "id": "MsQqU46JQf16",
        "colab_type": "text"
      },
      "source": [
        "# Mercado Libre"
      ]
    },
    {
      "cell_type": "code",
      "metadata": {
        "id": "DYjPe2VgQiKL",
        "colab_type": "code",
        "colab": {
          "base_uri": "https://localhost:8080/",
          "height": 34
        },
        "outputId": "eddd6c8d-79ed-40d0-98d7-1fd5a29266be"
      },
      "source": [
        "ml_user_request_1 = user_request.replace(' ','-')\n",
        "ml_user_request_2 = user_request.replace(' ','%20')\n",
        "ml_url = f'https://listado.mercadolibre.com.{country}/{ml_user_request_1}#D[A:{ml_user_request_2}]'\n",
        "ml_soup, ml_status = extract_soup(ml_url,0, preview=False)\n",
        "print(ml_status)"
      ],
      "execution_count": 21,
      "outputs": [
        {
          "output_type": "stream",
          "text": [
            "200\n"
          ],
          "name": "stdout"
        }
      ]
    },
    {
      "cell_type": "markdown",
      "metadata": {
        "id": "w4Cw5C_cQidn",
        "colab_type": "text"
      },
      "source": [
        "# Wall-Mart"
      ]
    },
    {
      "cell_type": "code",
      "metadata": {
        "id": "nfpfjl4-QY1m",
        "colab_type": "code",
        "colab": {
          "base_uri": "https://localhost:8080/",
          "height": 52
        },
        "outputId": "5fc802d5-1940-4107-ccea-35334926762a"
      },
      "source": [
        "wallmart_url = f'https://www.walmart.com/cp/playstation-4-consoles,-games,-controllers-+-more/1102672'\n",
        "wallmart_soup, wallmart_status = extract_soup(wallmart_url, 0, preview=False)\n",
        "print('Wallmart 1st url status: ', wallmart_status)\n",
        "\n",
        "\n",
        "ml_user_request_2 = user_request.replace(' ','%20')\n",
        "wallmart_url = f'https://www.walmart.com.mx/productos?Ntt={ml_user_request_2}'\n",
        "wallmart_soup, wallmart_status = extract_soup(wallmart_url, 0, preview=False)\n",
        "print('Wallmart 2nd url status: ', wallmart_status)"
      ],
      "execution_count": 22,
      "outputs": [
        {
          "output_type": "stream",
          "text": [
            "Wallmart 1st url status:  444\n",
            "Wallmart 2nd url status:  200\n"
          ],
          "name": "stdout"
        }
      ]
    }
  ]
}