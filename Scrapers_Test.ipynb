{
  "nbformat": 4,
  "nbformat_minor": 0,
  "metadata": {
    "colab": {
      "name": "Scrapers Test.ipynb",
      "provenance": [],
      "collapsed_sections": [],
      "authorship_tag": "ABX9TyO7frwQ5AatEbuJEBCfps7E",
      "include_colab_link": true
    },
    "kernelspec": {
      "name": "python3",
      "display_name": "Python 3"
    }
  },
  "cells": [
    {
      "cell_type": "markdown",
      "metadata": {
        "id": "view-in-github",
        "colab_type": "text"
      },
      "source": [
        "<a href=\"https://colab.research.google.com/github/Edward-TL/La-Compra-Ideal/blob/master/Scrapers_Test.ipynb\" target=\"_parent\"><img src=\"https://colab.research.google.com/assets/colab-badge.svg\" alt=\"Open In Colab\"/></a>"
      ]
    },
    {
      "cell_type": "markdown",
      "metadata": {
        "id": "WCqfTb4gMfGF",
        "colab_type": "text"
      },
      "source": [
        "# Start\n"
      ]
    },
    {
      "cell_type": "code",
      "metadata": {
        "id": "cBUUBdOZMJqy",
        "colab_type": "code",
        "colab": {
          "base_uri": "https://localhost:8080/",
          "height": 34
        },
        "outputId": "b10549c1-63c1-4852-c1e9-da4caa27f17a"
      },
      "source": [
        "from google.colab import drive\n",
        "drive.mount('/content/drive')"
      ],
      "execution_count": 2,
      "outputs": [
        {
          "output_type": "stream",
          "text": [
            "Mounted at /content/drive\n"
          ],
          "name": "stdout"
        }
      ]
    },
    {
      "cell_type": "markdown",
      "metadata": {
        "id": "CSe3DZBtMiQR",
        "colab_type": "text"
      },
      "source": [
        "# Import\n"
      ]
    },
    {
      "cell_type": "code",
      "metadata": {
        "id": "XkMQO7cPeXXw",
        "colab_type": "code",
        "colab": {
          "base_uri": "https://localhost:8080/",
          "height": 143
        },
        "outputId": "133aad16-b3d5-432d-d2d3-10bbc1e3dc75"
      },
      "source": [
        "!pip install selenium"
      ],
      "execution_count": 36,
      "outputs": [
        {
          "output_type": "stream",
          "text": [
            "Collecting selenium\n",
            "\u001b[?25l  Downloading https://files.pythonhosted.org/packages/80/d6/4294f0b4bce4de0abf13e17190289f9d0613b0a44e5dd6a7f5ca98459853/selenium-3.141.0-py2.py3-none-any.whl (904kB)\n",
            "\r\u001b[K     |▍                               | 10kB 13.3MB/s eta 0:00:01\r\u001b[K     |▊                               | 20kB 2.2MB/s eta 0:00:01\r\u001b[K     |█                               | 30kB 2.6MB/s eta 0:00:01\r\u001b[K     |█▌                              | 40kB 3.0MB/s eta 0:00:01\r\u001b[K     |█▉                              | 51kB 2.5MB/s eta 0:00:01\r\u001b[K     |██▏                             | 61kB 2.8MB/s eta 0:00:01\r\u001b[K     |██▌                             | 71kB 3.0MB/s eta 0:00:01\r\u001b[K     |███                             | 81kB 3.3MB/s eta 0:00:01\r\u001b[K     |███▎                            | 92kB 3.5MB/s eta 0:00:01\r\u001b[K     |███▋                            | 102kB 3.4MB/s eta 0:00:01\r\u001b[K     |████                            | 112kB 3.4MB/s eta 0:00:01\r\u001b[K     |████▍                           | 122kB 3.4MB/s eta 0:00:01\r\u001b[K     |████▊                           | 133kB 3.4MB/s eta 0:00:01\r\u001b[K     |█████                           | 143kB 3.4MB/s eta 0:00:01\r\u001b[K     |█████▍                          | 153kB 3.4MB/s eta 0:00:01\r\u001b[K     |█████▉                          | 163kB 3.4MB/s eta 0:00:01\r\u001b[K     |██████▏                         | 174kB 3.4MB/s eta 0:00:01\r\u001b[K     |██████▌                         | 184kB 3.4MB/s eta 0:00:01\r\u001b[K     |██████▉                         | 194kB 3.4MB/s eta 0:00:01\r\u001b[K     |███████▎                        | 204kB 3.4MB/s eta 0:00:01\r\u001b[K     |███████▋                        | 215kB 3.4MB/s eta 0:00:01\r\u001b[K     |████████                        | 225kB 3.4MB/s eta 0:00:01\r\u001b[K     |████████▎                       | 235kB 3.4MB/s eta 0:00:01\r\u001b[K     |████████▊                       | 245kB 3.4MB/s eta 0:00:01\r\u001b[K     |█████████                       | 256kB 3.4MB/s eta 0:00:01\r\u001b[K     |█████████▍                      | 266kB 3.4MB/s eta 0:00:01\r\u001b[K     |█████████▉                      | 276kB 3.4MB/s eta 0:00:01\r\u001b[K     |██████████▏                     | 286kB 3.4MB/s eta 0:00:01\r\u001b[K     |██████████▌                     | 296kB 3.4MB/s eta 0:00:01\r\u001b[K     |██████████▉                     | 307kB 3.4MB/s eta 0:00:01\r\u001b[K     |███████████▎                    | 317kB 3.4MB/s eta 0:00:01\r\u001b[K     |███████████▋                    | 327kB 3.4MB/s eta 0:00:01\r\u001b[K     |████████████                    | 337kB 3.4MB/s eta 0:00:01\r\u001b[K     |████████████▎                   | 348kB 3.4MB/s eta 0:00:01\r\u001b[K     |████████████▊                   | 358kB 3.4MB/s eta 0:00:01\r\u001b[K     |█████████████                   | 368kB 3.4MB/s eta 0:00:01\r\u001b[K     |█████████████▍                  | 378kB 3.4MB/s eta 0:00:01\r\u001b[K     |█████████████▊                  | 389kB 3.4MB/s eta 0:00:01\r\u001b[K     |██████████████▏                 | 399kB 3.4MB/s eta 0:00:01\r\u001b[K     |██████████████▌                 | 409kB 3.4MB/s eta 0:00:01\r\u001b[K     |██████████████▉                 | 419kB 3.4MB/s eta 0:00:01\r\u001b[K     |███████████████▏                | 430kB 3.4MB/s eta 0:00:01\r\u001b[K     |███████████████▋                | 440kB 3.4MB/s eta 0:00:01\r\u001b[K     |████████████████                | 450kB 3.4MB/s eta 0:00:01\r\u001b[K     |████████████████▎               | 460kB 3.4MB/s eta 0:00:01\r\u001b[K     |████████████████▋               | 471kB 3.4MB/s eta 0:00:01\r\u001b[K     |█████████████████               | 481kB 3.4MB/s eta 0:00:01\r\u001b[K     |█████████████████▍              | 491kB 3.4MB/s eta 0:00:01\r\u001b[K     |█████████████████▊              | 501kB 3.4MB/s eta 0:00:01\r\u001b[K     |██████████████████▏             | 512kB 3.4MB/s eta 0:00:01\r\u001b[K     |██████████████████▌             | 522kB 3.4MB/s eta 0:00:01\r\u001b[K     |██████████████████▉             | 532kB 3.4MB/s eta 0:00:01\r\u001b[K     |███████████████████▏            | 542kB 3.4MB/s eta 0:00:01\r\u001b[K     |███████████████████▋            | 552kB 3.4MB/s eta 0:00:01\r\u001b[K     |████████████████████            | 563kB 3.4MB/s eta 0:00:01\r\u001b[K     |████████████████████▎           | 573kB 3.4MB/s eta 0:00:01\r\u001b[K     |████████████████████▋           | 583kB 3.4MB/s eta 0:00:01\r\u001b[K     |█████████████████████           | 593kB 3.4MB/s eta 0:00:01\r\u001b[K     |█████████████████████▍          | 604kB 3.4MB/s eta 0:00:01\r\u001b[K     |█████████████████████▊          | 614kB 3.4MB/s eta 0:00:01\r\u001b[K     |██████████████████████          | 624kB 3.4MB/s eta 0:00:01\r\u001b[K     |██████████████████████▌         | 634kB 3.4MB/s eta 0:00:01\r\u001b[K     |██████████████████████▉         | 645kB 3.4MB/s eta 0:00:01\r\u001b[K     |███████████████████████▏        | 655kB 3.4MB/s eta 0:00:01\r\u001b[K     |███████████████████████▌        | 665kB 3.4MB/s eta 0:00:01\r\u001b[K     |████████████████████████        | 675kB 3.4MB/s eta 0:00:01\r\u001b[K     |████████████████████████▎       | 686kB 3.4MB/s eta 0:00:01\r\u001b[K     |████████████████████████▋       | 696kB 3.4MB/s eta 0:00:01\r\u001b[K     |█████████████████████████       | 706kB 3.4MB/s eta 0:00:01\r\u001b[K     |█████████████████████████▍      | 716kB 3.4MB/s eta 0:00:01\r\u001b[K     |█████████████████████████▊      | 727kB 3.4MB/s eta 0:00:01\r\u001b[K     |██████████████████████████      | 737kB 3.4MB/s eta 0:00:01\r\u001b[K     |██████████████████████████▍     | 747kB 3.4MB/s eta 0:00:01\r\u001b[K     |██████████████████████████▉     | 757kB 3.4MB/s eta 0:00:01\r\u001b[K     |███████████████████████████▏    | 768kB 3.4MB/s eta 0:00:01\r\u001b[K     |███████████████████████████▌    | 778kB 3.4MB/s eta 0:00:01\r\u001b[K     |████████████████████████████    | 788kB 3.4MB/s eta 0:00:01\r\u001b[K     |████████████████████████████▎   | 798kB 3.4MB/s eta 0:00:01\r\u001b[K     |████████████████████████████▋   | 808kB 3.4MB/s eta 0:00:01\r\u001b[K     |█████████████████████████████   | 819kB 3.4MB/s eta 0:00:01\r\u001b[K     |█████████████████████████████▍  | 829kB 3.4MB/s eta 0:00:01\r\u001b[K     |█████████████████████████████▊  | 839kB 3.4MB/s eta 0:00:01\r\u001b[K     |██████████████████████████████  | 849kB 3.4MB/s eta 0:00:01\r\u001b[K     |██████████████████████████████▍ | 860kB 3.4MB/s eta 0:00:01\r\u001b[K     |██████████████████████████████▉ | 870kB 3.4MB/s eta 0:00:01\r\u001b[K     |███████████████████████████████▏| 880kB 3.4MB/s eta 0:00:01\r\u001b[K     |███████████████████████████████▌| 890kB 3.4MB/s eta 0:00:01\r\u001b[K     |███████████████████████████████▉| 901kB 3.4MB/s eta 0:00:01\r\u001b[K     |████████████████████████████████| 911kB 3.4MB/s \n",
            "\u001b[?25hRequirement already satisfied: urllib3 in /usr/local/lib/python3.6/dist-packages (from selenium) (1.24.3)\n",
            "Installing collected packages: selenium\n",
            "Successfully installed selenium-3.141.0\n"
          ],
          "name": "stdout"
        }
      ]
    },
    {
      "cell_type": "code",
      "metadata": {
        "id": "1ViKLWguMh9f",
        "colab_type": "code",
        "colab": {}
      },
      "source": [
        "#For the system\n",
        "import os\n",
        "\n",
        "#Manage of time\n",
        "from datetime import datetime, timedelta\n",
        "from pytz import timezone\n",
        "import time\n",
        "import re\n",
        "\n",
        "#Manage of files\n",
        "import pandas as pd\n",
        "import csv\n",
        "\n",
        "#scrap\n",
        "from bs4 import BeautifulSoup\n",
        "from selenium import webdriver\n",
        "from openpyxl.workbook import Workbook\n",
        "import requests"
      ],
      "execution_count": 37,
      "outputs": []
    },
    {
      "cell_type": "markdown",
      "metadata": {
        "id": "pOG5mQ4MM_fA",
        "colab_type": "text"
      },
      "source": [
        "# Headers"
      ]
    },
    {
      "cell_type": "code",
      "metadata": {
        "id": "96sxB3CDM-bc",
        "colab_type": "code",
        "colab": {}
      },
      "source": [
        "headers_0 = {\"User-Agent\":\"Mozilla/5.0 (Windows NT 10.0; Win64;x64; rv:66.0) Gecko/20100101 Firefox/66.0\",\n",
        "           \"Accept-Encoding\":\"gzip, deflate\",\n",
        "           \"Accept\":\"text/html,application/xhtml+xml,application/xml;q=0.9,*/*;q=0.8\",\n",
        "           \"DNT\":\"1\",\n",
        "           \"Connection\":\"close\",\n",
        "           \"Upgrade-Insecure-Requests\":\"1\"}\n",
        "\n",
        "headers_1 = {\"User-Agent\": \"Mozilla/5.0 (Macintosh; Intel Mac OS X 10_14_5)AppleWebKit/605.1.15 (KHTML, like Gecko)Version/12.1.1 Safari/605.1.15\",\n",
        "           \"Accept-Encoding\":\"gzip, deflate\",\n",
        "           \"Accept\":\"text/html,application/xhtml+xml,application/xml;q=0.9,*/*;q=0.8\",\n",
        "           \"DNT\":\"1\",\n",
        "           \"Connection\":\"close\",\n",
        "           \"Upgrade-Insecure-Requests\":\"1\"}\n",
        "\n",
        "headers_2 = {\"User-Agent\": \"Mozilla/5.0 (Windows NT 10.0; Win64; x64) AppleWebKit/537.36 (KHTML, like Gecko) Chrome/75.0.3770.100 Safari/537.36\",\n",
        "           \"Accept-Encoding\":\"gzip, deflate\",\n",
        "           \"Accept\":\"text/html,application/xhtml+xml,application/xml;q=0.9,*/*;q=0.8\",\n",
        "           \"DNT\":\"1\",\n",
        "           \"Connection\":\"close\",\n",
        "           \"Upgrade-Insecure-Requests\":\"1\"}\n",
        "\n",
        "headers_tuple = (headers_1, headers_1, headers_2)"
      ],
      "execution_count": 4,
      "outputs": []
    },
    {
      "cell_type": "markdown",
      "metadata": {
        "id": "hA4E1qcOrm2k",
        "colab_type": "text"
      },
      "source": [
        "# Order linked List"
      ]
    },
    {
      "cell_type": "code",
      "metadata": {
        "id": "EUB3pxSjv37S",
        "colab_type": "code",
        "colab": {}
      },
      "source": [
        "def ordered_dict(dictionary, reverse=True):\n",
        "    import operator\n",
        "    ordered_dict = dict(sorted(dictionary.items(), key=operator.itemgetter(1),reverse=True))\n",
        "\n",
        "    return ordered_dict"
      ],
      "execution_count": 5,
      "outputs": []
    },
    {
      "cell_type": "code",
      "metadata": {
        "id": "3mGfWWD3rmj1",
        "colab_type": "code",
        "colab": {
          "base_uri": "https://localhost:8080/",
          "height": 70
        },
        "outputId": "3aff3c03-5477-4f86-e75f-a6ed25059cb2"
      },
      "source": [
        "stars = {'Mercado Libre': 4.1,\n",
        "        'Amazon': 4.3,\n",
        "        'Wallmart': 4.5,\n",
        "        'ebay': 3.9}\n",
        "\n",
        "reviews = {'Mercado Libre': 200,\n",
        "        'Amazon': 300,\n",
        "        'Wallmart': 500,\n",
        "        'ebay': 150}\n",
        "\n",
        "price = {'Mercado Libre': 2000,\n",
        "        'Amazon': 4000,\n",
        "        'Wallmart': 3900,\n",
        "        'ebay': 1500}\n",
        "\n",
        "data = {'stars':stars,\n",
        "        'reviews':reviews,\n",
        "        'price':price}\n",
        "\n",
        "for name, info  in data.items():\n",
        "    reverse = True\n",
        "    if name == 'stars' or name == 'reviews':\n",
        "        reverse = False\n",
        "\n",
        "    print(ordered_dict(info, reverse=reverse))"
      ],
      "execution_count": 6,
      "outputs": [
        {
          "output_type": "stream",
          "text": [
            "{'Wallmart': 4.5, 'Amazon': 4.3, 'Mercado Libre': 4.1, 'ebay': 3.9}\n",
            "{'Wallmart': 500, 'Amazon': 300, 'Mercado Libre': 200, 'ebay': 150}\n",
            "{'Amazon': 4000, 'Wallmart': 3900, 'Mercado Libre': 2000, 'ebay': 1500}\n"
          ],
          "name": "stdout"
        }
      ]
    },
    {
      "cell_type": "markdown",
      "metadata": {
        "id": "2nfc3oaTNIZD",
        "colab_type": "text"
      },
      "source": [
        "# Extract Soup"
      ]
    },
    {
      "cell_type": "code",
      "metadata": {
        "id": "qanvdnLlNHH7",
        "colab_type": "code",
        "colab": {}
      },
      "source": [
        "def extract_soup(url, header=0, preview=True):\n",
        "    headers = headers_tuple[header]\n",
        "    response = requests.get(url, headers=headers)\n",
        "    status = response.status_code\n",
        "\n",
        "    soup = BeautifulSoup(response.text, 'lxml')\n",
        "\n",
        "    if preview==True:\n",
        "        print(soup.prettify())\n",
        "\n",
        "    return soup, status"
      ],
      "execution_count": 7,
      "outputs": []
    },
    {
      "cell_type": "markdown",
      "metadata": {
        "id": "K89cLnBjNYrr",
        "colab_type": "text"
      },
      "source": [
        "# Tests"
      ]
    },
    {
      "cell_type": "code",
      "metadata": {
        "id": "ME5-z6NMSimY",
        "colab_type": "code",
        "colab": {}
      },
      "source": [
        "user_request = 'audifonos inalambricos'\n",
        "country = 'mx'\n",
        "\n",
        "replacer = {'Wallmart': '%20',\n",
        "            'Amazon':'+',\n",
        "            'Mercado Libre': '%20'}"
      ],
      "execution_count": 14,
      "outputs": []
    },
    {
      "cell_type": "markdown",
      "metadata": {
        "id": "w4Cw5C_cQidn",
        "colab_type": "text"
      },
      "source": [
        "## Wall-Mart"
      ]
    },
    {
      "cell_type": "code",
      "metadata": {
        "id": "3-84v1MpbHlI",
        "colab_type": "code",
        "colab": {}
      },
      "source": [
        "def search_boxes(soup):\n",
        "    page_boxes = {'Wallmart': 'col-xs-6 col-md-4 col-lg-3 col-xl-2 flex_noMargin__2nisT flex_noPadding__1fg2H'}\n",
        "    boxes = soup.find_all('div', attrs={'class' : page_boxes['Wallmart']})\n",
        "\n",
        "    return boxes"
      ],
      "execution_count": 26,
      "outputs": []
    },
    {
      "cell_type": "code",
      "metadata": {
        "id": "H38fbAOCbaHj",
        "colab_type": "code",
        "colab": {}
      },
      "source": [
        "!export PATH=$PATH:'/path to geckodriver/'"
      ],
      "execution_count": 44,
      "outputs": []
    },
    {
      "cell_type": "code",
      "metadata": {
        "id": "nfpfjl4-QY1m",
        "colab_type": "code",
        "colab": {
          "base_uri": "https://localhost:8080/",
          "height": 836
        },
        "outputId": "d8d91c52-213b-4941-f1d5-24626a0619d7"
      },
      "source": [
        "adapted_user_request = user_request.replace(' ',replacer['Mercado Libre'])\n",
        "wallmart_url = 'https://www.walmart.com.mx/productos?Ntt=audifonos%20inalambricos'\n",
        "\n",
        "soup = BeautifulSoup(wallmart_url)\n",
        "\n",
        "wallmart_soup, wallmart_status = extract_soup(wallmart_url, 0, preview=True)\n",
        "print('Wallmart url status: ', wallmart_status)\n",
        "\n",
        "\n",
        "page_boxes = {'Wallmart': 'col-xs-6 col-md-4 col-lg-3 col-xl-2 flex_noMargin__2nisT flex_noPadding__1fg2H'}\n",
        "boxes = wallmart_soup.find_all('div', attrs={'class' : 'col-xs-6 col-md-4 col-lg-3 col-xl-2 flex_noMargin__2nisT flex_noPadding__1fg2H'})\n",
        "print(len(wallmart_boxes))"
      ],
      "execution_count": 47,
      "outputs": [
        {
          "output_type": "stream",
          "text": [
            "/usr/local/lib/python3.6/dist-packages/bs4/__init__.py:336: UserWarning: \"https://www.walmart.com.mx/productos?Ntt=audifonos%20inalambricos\" looks like a URL. Beautiful Soup is not an HTTP client. You should probably use an HTTP client like requests to get the document behind the URL, and feed that document to Beautiful Soup.\n",
            "  ' that document to Beautiful Soup.' % decoded_markup\n"
          ],
          "name": "stderr"
        },
        {
          "output_type": "stream",
          "text": [
            "<!DOCTYPE html>\n",
            "<html lang=\"en\">\n",
            " <head>\n",
            "  <meta charset=\"utf-8\"/>\n",
            "  <meta content=\"IE=edge\" http-equiv=\"x-ua-compatible\"/>\n",
            "  <meta content=\"width=device-width,initial-scale=1,maximum-scale=1,user-scalable=no,shrink-to-fit=no\" name=\"viewport\"/>\n",
            "  <meta content=\"#000000\" name=\"theme-color\"/>\n",
            "  <link href=\"manifest.json\" rel=\"manifest\"/>\n",
            "  <link href=\"//i5.walmartimages.com\" rel=\"dns-prefetch\"/>\n",
            "  <script>\n",
            "   !function(e,a,o,t,n){a.getElementsByTagName(o)[0];var d=a.createElement(o),i=-1!==(e&&e.location&&e.location.hostname||\"\").indexOf(\"bodega\")?\"GTM-5BD4WTC\":\"GTM-TQ57QQP\";d.async=!0,d.src=\"https://www.googleoptimize.com/optimize.js?id=\"+i,d.onerror=\"dataLayer.hide.end && dataLayer.hide.end()\",a.head.appendChild(d)}(window,document,\"script\")\n",
            "  </script>\n",
            "  <script>\n",
            "   !function(e,t,a,n,o,g){e[n]=e[n]||[],e[n].push({\"gtm.start\":(new Date).getTime(),event:\"gtm.js\"});var m=t.getElementsByTagName(a)[0],s=t.createElement(a),r=-1!==(e&&e.location&&e.location.hostname||\"\").indexOf(\"bodega\")?\"GTM-TSJS2GW\":\"GTM-D8LF\";s.async=!0,s.src=\"https://www.googletagmanager.com/gtm.js?id=\"+r,m.parentNode.insertBefore(s,m)}(window,document,\"script\",\"dataLayer\")\n",
            "  </script>\n",
            "  <title>\n",
            "  </title>\n",
            "  <script>\n",
            "   !function(e,o){var a=-1!==(e&&e.location&&e.location.hostname||\"\").indexOf(\"bodega\"),n=o.createElement(\"link\");o.title=a?\"Bodega\":\"Walmart\",n.rel=\"shortcut icon\",n.href=a?\"/bodegafavicon.ico\":\"/favicon.ico\",o.getElementsByTagName(\"head\")[0].appendChild(n)}(window,document)\n",
            "  </script>\n",
            "  <link href=\"static/css/17.77601123.chunk.css\" rel=\"stylesheet\"/>\n",
            "  <link href=\"static/css/main.7a594e5e.chunk.css\" rel=\"stylesheet\"/>\n",
            " </head>\n",
            " <body>\n",
            "  <noscript>\n",
            "   You need to enable JavaScript to run this app.\n",
            "  </noscript>\n",
            "  <div id=\"root\">\n",
            "  </div>\n",
            "  <script>\n",
            "   !function(e,t){var n=-1!==(e&&e.location&&e.location.hostname||\"\").indexOf(\"bodega\"),o=document.createElement(\"IMG\"),a=document.createElement(\"IMG\"),d=document.createElement(\"div\"),i=document.createElement(\"div\");o.src=n?\"/Bodega-Aurrera-en-linea.png\":\"/walmart-logo.png\",o.alt=\"brand image\",o.style=\"max-width: 130px;\",d.style=n?\"background-color: #3fad49; padding: 10px 20px; position: relative;\":\"background-color: #017ADB; padding: 10px 20px; position: relative;\",d.appendChild(o),i.style=\"position: fixed;top: 0;left: 0;width: 100%;height: 100%;background: rgba(255, 255, 255, 0.5);z-index: 100000;\",a.src=n?\"/bodega-spinner.gif\":\"/spinner.gif\",a.style=\"position: absolute;top: 50%;right: 50%;transform: translate(50%, -50%);width:60px;\",i.appendChild(a),t.getElementById(\"root\").appendChild(d),t.getElementById(\"root\").appendChild(i)}(window,document)\n",
            "  </script>\n",
            "  <script>\n",
            "   !function(u){function e(e){for(var t,r,n=e[0],o=e[1],a=e[2],c=0,f=[];c<n.length;c++)r=n[c],s[r]&&f.push(s[r][0]),s[r]=0;for(t in o)Object.prototype.hasOwnProperty.call(o,t)&&(u[t]=o[t]);for(b&&b(e);f.length;)f.shift()();return i.push.apply(i,a||[]),d()}function d(){for(var e,t=0;t<i.length;t++){for(var r=i[t],n=!0,o=1;o<r.length;o++){var a=r[o];0!==s[a]&&(n=!1)}n&&(i.splice(t--,1),e=p(p.s=r[0]))}return e}var r={},l={16:0},s={16:0},i=[];function p(e){if(r[e])return r[e].exports;var t=r[e]={i:e,l:!1,exports:{}};return u[e].call(t.exports,t,t.exports,p),t.l=!0,t.exports}p.e=function(i){var e=[];l[i]?e.push(l[i]):0!==l[i]&&{0:1,1:1,2:1,3:1,4:1,5:1,6:1,7:1,18:1,20:1,21:1,22:1,23:1,24:1,25:1}[i]&&e.push(l[i]=new Promise(function(e,n){for(var t=\"static/css/\"+({}[i]||i)+\".\"+{0:\"441cbf77\",1:\"3c3b25f1\",2:\"511b5699\",3:\"a1866ec1\",4:\"25702987\",5:\"5f2d5d4c\",6:\"5e8bad3a\",7:\"a40927aa\",8:\"31d6cfe0\",9:\"31d6cfe0\",10:\"31d6cfe0\",11:\"31d6cfe0\",12:\"31d6cfe0\",13:\"31d6cfe0\",14:\"31d6cfe0\",18:\"6708c26e\",19:\"31d6cfe0\",20:\"ab542b73\",21:\"e9948061\",22:\"ab07d189\",23:\"cca2cdd1\",24:\"69a0c9be\",25:\"6c3115a4\",26:\"31d6cfe0\",27:\"31d6cfe0\",28:\"31d6cfe0\"}[i]+\".chunk.css\",o=p.p+t,r=document.getElementsByTagName(\"link\"),a=0;a<r.length;a++){var c=(u=r[a]).getAttribute(\"data-href\")||u.getAttribute(\"href\");if(\"stylesheet\"===u.rel&&(c===t||c===o))return e()}var f=document.getElementsByTagName(\"style\");for(a=0;a<f.length;a++){var u;if((c=(u=f[a]).getAttribute(\"data-href\"))===t||c===o)return e()}var d=document.createElement(\"link\");d.rel=\"stylesheet\",d.type=\"text/css\",d.onload=e,d.onerror=function(e){var t=e&&e.target&&e.target.src||o,r=new Error(\"Loading CSS chunk \"+i+\" failed.\\n(\"+t+\")\");r.request=t,delete l[i],d.parentNode.removeChild(d),n(r)},d.href=o,document.getElementsByTagName(\"head\")[0].appendChild(d)}).then(function(){l[i]=0}));var r=s[i];if(0!==r)if(r)e.push(r[2]);else{var t=new Promise(function(e,t){r=s[i]=[e,t]});e.push(r[2]=t);var n,a=document.createElement(\"script\");a.charset=\"utf-8\",a.timeout=120,p.nc&&a.setAttribute(\"nonce\",p.nc),a.src=p.p+\"static/js/\"+({}[i]||i)+\".\"+{0:\"ea045009\",1:\"69b3ffbd\",2:\"7f661883\",3:\"028e18e1\",4:\"35e88e02\",5:\"fbd62f9b\",6:\"ce3bf5db\",7:\"50837d87\",8:\"74561af6\",9:\"34ca8c2e\",10:\"e69d98e2\",11:\"791e6156\",12:\"737cbc41\",13:\"bfa91756\",14:\"5b8af101\",18:\"d3548674\",19:\"4abd93b8\",20:\"e5bccf10\",21:\"a88a2156\",22:\"14cf2324\",23:\"554bd77b\",24:\"6b4085cc\",25:\"e7e136d5\",26:\"53eff9a7\",27:\"fcad5ed5\",28:\"e9697d02\"}[i]+\".chunk.js\",n=function(e){a.onerror=a.onload=null,clearTimeout(c);var t=s[i];if(0!==t){if(t){var r=e&&(\"load\"===e.type?\"missing\":e.type),n=e&&e.target&&e.target.src,o=new Error(\"Loading chunk \"+i+\" failed.\\n(\"+r+\": \"+n+\")\");o.type=r,o.request=n,t[1](o)}s[i]=void 0}};var c=setTimeout(function(){n({type:\"timeout\",target:a})},12e4);a.onerror=a.onload=n,document.head.appendChild(a)}return Promise.all(e)},p.m=u,p.c=r,p.d=function(e,t,r){p.o(e,t)||Object.defineProperty(e,t,{enumerable:!0,get:r})},p.r=function(e){\"undefined\"!=typeof Symbol&&Symbol.toStringTag&&Object.defineProperty(e,Symbol.toStringTag,{value:\"Module\"}),Object.defineProperty(e,\"__esModule\",{value:!0})},p.t=function(t,e){if(1&e&&(t=p(t)),8&e)return t;if(4&e&&\"object\"==typeof t&&t&&t.__esModule)return t;var r=Object.create(null);if(p.r(r),Object.defineProperty(r,\"default\",{enumerable:!0,value:t}),2&e&&\"string\"!=typeof t)for(var n in t)p.d(r,n,function(e){return t[e]}.bind(null,n));return r},p.n=function(e){var t=e&&e.__esModule?function(){return e.default}:function(){return e};return p.d(t,\"a\",t),t},p.o=function(e,t){return Object.prototype.hasOwnProperty.call(e,t)},p.p=\"/\",p.oe=function(e){throw console.error(e),e};var t=window.webpackJsonp=window.webpackJsonp||[],n=t.push.bind(t);t.push=e,t=t.slice();for(var o=0;o<t.length;o++)e(t[o]);var b=n;d()}([])\n",
            "  </script>\n",
            "  <script src=\"static/js/17.e7915dd7.chunk.js\">\n",
            "  </script>\n",
            "  <script src=\"static/js/main.c43df8a2.chunk.js\">\n",
            "  </script>\n",
            " </body>\n",
            "</html>\n",
            "Wallmart url status:  200\n",
            "0\n"
          ],
          "name": "stdout"
        }
      ]
    },
    {
      "cell_type": "markdown",
      "metadata": {
        "id": "aO_0S-J4NaSN",
        "colab_type": "text"
      },
      "source": [
        "## Amazon"
      ]
    },
    {
      "cell_type": "code",
      "metadata": {
        "id": "RzSfUp1wNdWd",
        "colab_type": "code",
        "colab": {}
      },
      "source": [
        "amz_user_request = user_request.replace(' ', '+')\n",
        "amz_url = f'https://www.amazon.com.{country}/s?k={amz_user_request}'\n",
        "amz_soup, amz_status = extract_soup(amz_url, 0, preview=False)\n",
        "print(amz_status)"
      ],
      "execution_count": null,
      "outputs": []
    },
    {
      "cell_type": "markdown",
      "metadata": {
        "id": "MsQqU46JQf16",
        "colab_type": "text"
      },
      "source": [
        "## Mercado Libre"
      ]
    },
    {
      "cell_type": "code",
      "metadata": {
        "id": "DYjPe2VgQiKL",
        "colab_type": "code",
        "colab": {}
      },
      "source": [
        "ml_user_request_1 = user_request.replace(' ','-')\n",
        "ml_user_request_2 = user_request.replace(' ','%20')\n",
        "ml_url = f'https://listado.mercadolibre.com.{country}/{ml_user_request_1}#D[A:{ml_user_request_2}]'\n",
        "ml_soup, ml_status = extract_soup(ml_url,0, preview=False)\n",
        "print(ml_status)"
      ],
      "execution_count": null,
      "outputs": []
    },
    {
      "cell_type": "code",
      "metadata": {
        "id": "4-MaR6kOt6lY",
        "colab_type": "code",
        "colab": {}
      },
      "source": [
        ""
      ],
      "execution_count": null,
      "outputs": []
    }
  ]
}