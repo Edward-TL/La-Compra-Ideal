{
  "nbformat": 4,
  "nbformat_minor": 0,
  "metadata": {
    "colab": {
      "name": "Scrapers Test.ipynb",
      "provenance": [],
      "collapsed_sections": [],
      "authorship_tag": "ABX9TyMB3qJjGsz4b02D+0Ritn+n",
      "include_colab_link": true
    },
    "kernelspec": {
      "name": "python3",
      "display_name": "Python 3"
    }
  },
  "cells": [
    {
      "cell_type": "markdown",
      "metadata": {
        "id": "view-in-github",
        "colab_type": "text"
      },
      "source": [
        "<a href=\"https://colab.research.google.com/github/Edward-TL/La-Compra-Ideal/blob/master/Scrapers_Test.ipynb\" target=\"_parent\"><img src=\"https://colab.research.google.com/assets/colab-badge.svg\" alt=\"Open In Colab\"/></a>"
      ]
    },
    {
      "cell_type": "markdown",
      "metadata": {
        "id": "WCqfTb4gMfGF",
        "colab_type": "text"
      },
      "source": [
        "# Start\n"
      ]
    },
    {
      "cell_type": "code",
      "metadata": {
        "id": "cBUUBdOZMJqy",
        "colab_type": "code",
        "colab": {
          "base_uri": "https://localhost:8080/",
          "height": 34
        },
        "outputId": "b10549c1-63c1-4852-c1e9-da4caa27f17a"
      },
      "source": [
        "from google.colab import drive\n",
        "drive.mount('/content/drive')"
      ],
      "execution_count": 2,
      "outputs": [
        {
          "output_type": "stream",
          "text": [
            "Mounted at /content/drive\n"
          ],
          "name": "stdout"
        }
      ]
    },
    {
      "cell_type": "markdown",
      "metadata": {
        "id": "CSe3DZBtMiQR",
        "colab_type": "text"
      },
      "source": [
        "# Import\n"
      ]
    },
    {
      "cell_type": "code",
      "metadata": {
        "id": "XkMQO7cPeXXw",
        "colab_type": "code",
        "colab": {
          "base_uri": "https://localhost:8080/",
          "height": 143
        },
        "outputId": "133aad16-b3d5-432d-d2d3-10bbc1e3dc75"
      },
      "source": [
        "!pip install selenium"
      ],
      "execution_count": 36,
      "outputs": [
        {
          "output_type": "stream",
          "text": [
            "Collecting selenium\n",
            "\u001b[?25l  Downloading https://files.pythonhosted.org/packages/80/d6/4294f0b4bce4de0abf13e17190289f9d0613b0a44e5dd6a7f5ca98459853/selenium-3.141.0-py2.py3-none-any.whl (904kB)\n",
            "\r\u001b[K     |▍                               | 10kB 13.3MB/s eta 0:00:01\r\u001b[K     |▊                               | 20kB 2.2MB/s eta 0:00:01\r\u001b[K     |█                               | 30kB 2.6MB/s eta 0:00:01\r\u001b[K     |█▌                              | 40kB 3.0MB/s eta 0:00:01\r\u001b[K     |█▉                              | 51kB 2.5MB/s eta 0:00:01\r\u001b[K     |██▏                             | 61kB 2.8MB/s eta 0:00:01\r\u001b[K     |██▌                             | 71kB 3.0MB/s eta 0:00:01\r\u001b[K     |███                             | 81kB 3.3MB/s eta 0:00:01\r\u001b[K     |███▎                            | 92kB 3.5MB/s eta 0:00:01\r\u001b[K     |███▋                            | 102kB 3.4MB/s eta 0:00:01\r\u001b[K     |████                            | 112kB 3.4MB/s eta 0:00:01\r\u001b[K     |████▍                           | 122kB 3.4MB/s eta 0:00:01\r\u001b[K     |████▊                           | 133kB 3.4MB/s eta 0:00:01\r\u001b[K     |█████                           | 143kB 3.4MB/s eta 0:00:01\r\u001b[K     |█████▍                          | 153kB 3.4MB/s eta 0:00:01\r\u001b[K     |█████▉                          | 163kB 3.4MB/s eta 0:00:01\r\u001b[K     |██████▏                         | 174kB 3.4MB/s eta 0:00:01\r\u001b[K     |██████▌                         | 184kB 3.4MB/s eta 0:00:01\r\u001b[K     |██████▉                         | 194kB 3.4MB/s eta 0:00:01\r\u001b[K     |███████▎                        | 204kB 3.4MB/s eta 0:00:01\r\u001b[K     |███████▋                        | 215kB 3.4MB/s eta 0:00:01\r\u001b[K     |████████                        | 225kB 3.4MB/s eta 0:00:01\r\u001b[K     |████████▎                       | 235kB 3.4MB/s eta 0:00:01\r\u001b[K     |████████▊                       | 245kB 3.4MB/s eta 0:00:01\r\u001b[K     |█████████                       | 256kB 3.4MB/s eta 0:00:01\r\u001b[K     |█████████▍                      | 266kB 3.4MB/s eta 0:00:01\r\u001b[K     |█████████▉                      | 276kB 3.4MB/s eta 0:00:01\r\u001b[K     |██████████▏                     | 286kB 3.4MB/s eta 0:00:01\r\u001b[K     |██████████▌                     | 296kB 3.4MB/s eta 0:00:01\r\u001b[K     |██████████▉                     | 307kB 3.4MB/s eta 0:00:01\r\u001b[K     |███████████▎                    | 317kB 3.4MB/s eta 0:00:01\r\u001b[K     |███████████▋                    | 327kB 3.4MB/s eta 0:00:01\r\u001b[K     |████████████                    | 337kB 3.4MB/s eta 0:00:01\r\u001b[K     |████████████▎                   | 348kB 3.4MB/s eta 0:00:01\r\u001b[K     |████████████▊                   | 358kB 3.4MB/s eta 0:00:01\r\u001b[K     |█████████████                   | 368kB 3.4MB/s eta 0:00:01\r\u001b[K     |█████████████▍                  | 378kB 3.4MB/s eta 0:00:01\r\u001b[K     |█████████████▊                  | 389kB 3.4MB/s eta 0:00:01\r\u001b[K     |██████████████▏                 | 399kB 3.4MB/s eta 0:00:01\r\u001b[K     |██████████████▌                 | 409kB 3.4MB/s eta 0:00:01\r\u001b[K     |██████████████▉                 | 419kB 3.4MB/s eta 0:00:01\r\u001b[K     |███████████████▏                | 430kB 3.4MB/s eta 0:00:01\r\u001b[K     |███████████████▋                | 440kB 3.4MB/s eta 0:00:01\r\u001b[K     |████████████████                | 450kB 3.4MB/s eta 0:00:01\r\u001b[K     |████████████████▎               | 460kB 3.4MB/s eta 0:00:01\r\u001b[K     |████████████████▋               | 471kB 3.4MB/s eta 0:00:01\r\u001b[K     |█████████████████               | 481kB 3.4MB/s eta 0:00:01\r\u001b[K     |█████████████████▍              | 491kB 3.4MB/s eta 0:00:01\r\u001b[K     |█████████████████▊              | 501kB 3.4MB/s eta 0:00:01\r\u001b[K     |██████████████████▏             | 512kB 3.4MB/s eta 0:00:01\r\u001b[K     |██████████████████▌             | 522kB 3.4MB/s eta 0:00:01\r\u001b[K     |██████████████████▉             | 532kB 3.4MB/s eta 0:00:01\r\u001b[K     |███████████████████▏            | 542kB 3.4MB/s eta 0:00:01\r\u001b[K     |███████████████████▋            | 552kB 3.4MB/s eta 0:00:01\r\u001b[K     |████████████████████            | 563kB 3.4MB/s eta 0:00:01\r\u001b[K     |████████████████████▎           | 573kB 3.4MB/s eta 0:00:01\r\u001b[K     |████████████████████▋           | 583kB 3.4MB/s eta 0:00:01\r\u001b[K     |█████████████████████           | 593kB 3.4MB/s eta 0:00:01\r\u001b[K     |█████████████████████▍          | 604kB 3.4MB/s eta 0:00:01\r\u001b[K     |█████████████████████▊          | 614kB 3.4MB/s eta 0:00:01\r\u001b[K     |██████████████████████          | 624kB 3.4MB/s eta 0:00:01\r\u001b[K     |██████████████████████▌         | 634kB 3.4MB/s eta 0:00:01\r\u001b[K     |██████████████████████▉         | 645kB 3.4MB/s eta 0:00:01\r\u001b[K     |███████████████████████▏        | 655kB 3.4MB/s eta 0:00:01\r\u001b[K     |███████████████████████▌        | 665kB 3.4MB/s eta 0:00:01\r\u001b[K     |████████████████████████        | 675kB 3.4MB/s eta 0:00:01\r\u001b[K     |████████████████████████▎       | 686kB 3.4MB/s eta 0:00:01\r\u001b[K     |████████████████████████▋       | 696kB 3.4MB/s eta 0:00:01\r\u001b[K     |█████████████████████████       | 706kB 3.4MB/s eta 0:00:01\r\u001b[K     |█████████████████████████▍      | 716kB 3.4MB/s eta 0:00:01\r\u001b[K     |█████████████████████████▊      | 727kB 3.4MB/s eta 0:00:01\r\u001b[K     |██████████████████████████      | 737kB 3.4MB/s eta 0:00:01\r\u001b[K     |██████████████████████████▍     | 747kB 3.4MB/s eta 0:00:01\r\u001b[K     |██████████████████████████▉     | 757kB 3.4MB/s eta 0:00:01\r\u001b[K     |███████████████████████████▏    | 768kB 3.4MB/s eta 0:00:01\r\u001b[K     |███████████████████████████▌    | 778kB 3.4MB/s eta 0:00:01\r\u001b[K     |████████████████████████████    | 788kB 3.4MB/s eta 0:00:01\r\u001b[K     |████████████████████████████▎   | 798kB 3.4MB/s eta 0:00:01\r\u001b[K     |████████████████████████████▋   | 808kB 3.4MB/s eta 0:00:01\r\u001b[K     |█████████████████████████████   | 819kB 3.4MB/s eta 0:00:01\r\u001b[K     |█████████████████████████████▍  | 829kB 3.4MB/s eta 0:00:01\r\u001b[K     |█████████████████████████████▊  | 839kB 3.4MB/s eta 0:00:01\r\u001b[K     |██████████████████████████████  | 849kB 3.4MB/s eta 0:00:01\r\u001b[K     |██████████████████████████████▍ | 860kB 3.4MB/s eta 0:00:01\r\u001b[K     |██████████████████████████████▉ | 870kB 3.4MB/s eta 0:00:01\r\u001b[K     |███████████████████████████████▏| 880kB 3.4MB/s eta 0:00:01\r\u001b[K     |███████████████████████████████▌| 890kB 3.4MB/s eta 0:00:01\r\u001b[K     |███████████████████████████████▉| 901kB 3.4MB/s eta 0:00:01\r\u001b[K     |████████████████████████████████| 911kB 3.4MB/s \n",
            "\u001b[?25hRequirement already satisfied: urllib3 in /usr/local/lib/python3.6/dist-packages (from selenium) (1.24.3)\n",
            "Installing collected packages: selenium\n",
            "Successfully installed selenium-3.141.0\n"
          ],
          "name": "stdout"
        }
      ]
    },
    {
      "cell_type": "code",
      "metadata": {
        "id": "1ViKLWguMh9f",
        "colab_type": "code",
        "colab": {}
      },
      "source": [
        "#For the system\n",
        "import os\n",
        "\n",
        "#Manage of time\n",
        "from datetime import datetime, timedelta\n",
        "from pytz import timezone\n",
        "import time\n",
        "import re\n",
        "\n",
        "#Manage of files\n",
        "import pandas as pd\n",
        "import csv\n",
        "\n",
        "#scrap\n",
        "from bs4 import BeautifulSoup\n",
        "from selenium import webdriver\n",
        "from openpyxl.workbook import Workbook\n",
        "import requests"
      ],
      "execution_count": 37,
      "outputs": []
    },
    {
      "cell_type": "markdown",
      "metadata": {
        "id": "pOG5mQ4MM_fA",
        "colab_type": "text"
      },
      "source": [
        "# Headers"
      ]
    },
    {
      "cell_type": "code",
      "metadata": {
        "id": "96sxB3CDM-bc",
        "colab_type": "code",
        "colab": {}
      },
      "source": [
        "headers_0 = {\"User-Agent\":\"Mozilla/5.0 (Windows NT 10.0; Win64;x64; rv:66.0) Gecko/20100101 Firefox/66.0\",\n",
        "           \"Accept-Encoding\":\"gzip, deflate\",\n",
        "           \"Accept\":\"text/html,application/xhtml+xml,application/xml;q=0.9,*/*;q=0.8\",\n",
        "           \"DNT\":\"1\",\n",
        "           \"Connection\":\"close\",\n",
        "           \"Upgrade-Insecure-Requests\":\"1\"}\n",
        "\n",
        "headers_1 = {\"User-Agent\": \"Mozilla/5.0 (Macintosh; Intel Mac OS X 10_14_5)AppleWebKit/605.1.15 (KHTML, like Gecko)Version/12.1.1 Safari/605.1.15\",\n",
        "           \"Accept-Encoding\":\"gzip, deflate\",\n",
        "           \"Accept\":\"text/html,application/xhtml+xml,application/xml;q=0.9,*/*;q=0.8\",\n",
        "           \"DNT\":\"1\",\n",
        "           \"Connection\":\"close\",\n",
        "           \"Upgrade-Insecure-Requests\":\"1\"}\n",
        "\n",
        "headers_2 = {\"User-Agent\": \"Mozilla/5.0 (Windows NT 10.0; Win64; x64) AppleWebKit/537.36 (KHTML, like Gecko) Chrome/75.0.3770.100 Safari/537.36\",\n",
        "           \"Accept-Encoding\":\"gzip, deflate\",\n",
        "           \"Accept\":\"text/html,application/xhtml+xml,application/xml;q=0.9,*/*;q=0.8\",\n",
        "           \"DNT\":\"1\",\n",
        "           \"Connection\":\"close\",\n",
        "           \"Upgrade-Insecure-Requests\":\"1\"}\n",
        "\n",
        "headers_tuple = (headers_1, headers_1, headers_2)"
      ],
      "execution_count": 4,
      "outputs": []
    },
    {
      "cell_type": "markdown",
      "metadata": {
        "id": "hA4E1qcOrm2k",
        "colab_type": "text"
      },
      "source": [
        "# Order linked List"
      ]
    },
    {
      "cell_type": "code",
      "metadata": {
        "id": "EUB3pxSjv37S",
        "colab_type": "code",
        "colab": {}
      },
      "source": [
        "def ordered_dict(dictionary, reverse=True):\n",
        "    import operator\n",
        "    ordered_dict = dict(sorted(dictionary.items(), key=operator.itemgetter(1),reverse=True))\n",
        "\n",
        "    return ordered_dict"
      ],
      "execution_count": 5,
      "outputs": []
    },
    {
      "cell_type": "code",
      "metadata": {
        "id": "3mGfWWD3rmj1",
        "colab_type": "code",
        "colab": {
          "base_uri": "https://localhost:8080/",
          "height": 70
        },
        "outputId": "3aff3c03-5477-4f86-e75f-a6ed25059cb2"
      },
      "source": [
        "stars = {'Mercado Libre': 4.1,\n",
        "        'Amazon': 4.3,\n",
        "        'Wallmart': 4.5,\n",
        "        'ebay': 3.9}\n",
        "\n",
        "reviews = {'Mercado Libre': 200,\n",
        "        'Amazon': 300,\n",
        "        'Wallmart': 500,\n",
        "        'ebay': 150}\n",
        "\n",
        "price = {'Mercado Libre': 2000,\n",
        "        'Amazon': 4000,\n",
        "        'Wallmart': 3900,\n",
        "        'ebay': 1500}\n",
        "\n",
        "data = {'stars':stars,\n",
        "        'reviews':reviews,\n",
        "        'price':price}\n",
        "\n",
        "for name, info  in data.items():\n",
        "    reverse = True\n",
        "    if name == 'stars' or name == 'reviews':\n",
        "        reverse = False\n",
        "\n",
        "    print(ordered_dict(info, reverse=reverse))"
      ],
      "execution_count": 6,
      "outputs": [
        {
          "output_type": "stream",
          "text": [
            "{'Wallmart': 4.5, 'Amazon': 4.3, 'Mercado Libre': 4.1, 'ebay': 3.9}\n",
            "{'Wallmart': 500, 'Amazon': 300, 'Mercado Libre': 200, 'ebay': 150}\n",
            "{'Amazon': 4000, 'Wallmart': 3900, 'Mercado Libre': 2000, 'ebay': 1500}\n"
          ],
          "name": "stdout"
        }
      ]
    },
    {
      "cell_type": "markdown",
      "metadata": {
        "id": "2nfc3oaTNIZD",
        "colab_type": "text"
      },
      "source": [
        "# Extract Soup"
      ]
    },
    {
      "cell_type": "code",
      "metadata": {
        "id": "qanvdnLlNHH7",
        "colab_type": "code",
        "colab": {}
      },
      "source": [
        "def extract_soup(url, header=0, preview=True):\n",
        "    headers = headers_tuple[header]\n",
        "    response = requests.get(url, headers=headers)\n",
        "    status = response.status_code\n",
        "\n",
        "    soup = BeautifulSoup(response.text, 'lxml')\n",
        "\n",
        "    if preview==True:\n",
        "        print(soup.prettify())\n",
        "\n",
        "    return soup, status"
      ],
      "execution_count": 7,
      "outputs": []
    },
    {
      "cell_type": "markdown",
      "metadata": {
        "id": "K89cLnBjNYrr",
        "colab_type": "text"
      },
      "source": [
        "# Tests"
      ]
    },
    {
      "cell_type": "code",
      "metadata": {
        "id": "ME5-z6NMSimY",
        "colab_type": "code",
        "colab": {}
      },
      "source": [
        "user_request = 'audifonos inalambricos'\n",
        "country = 'mx'\n",
        "\n",
        "replacer = {'Wallmart': '%20',\n",
        "            'Amazon':'+',\n",
        "            'Mercado Libre': '%20'}"
      ],
      "execution_count": 14,
      "outputs": []
    },
    {
      "cell_type": "markdown",
      "metadata": {
        "id": "w4Cw5C_cQidn",
        "colab_type": "text"
      },
      "source": [
        "## Wall-Mart"
      ]
    },
    {
      "cell_type": "code",
      "metadata": {
        "id": "3-84v1MpbHlI",
        "colab_type": "code",
        "colab": {}
      },
      "source": [
        "def search_boxes(soup):\n",
        "    page_boxes = {'Wallmart': 'col-xs-6 col-md-4 col-lg-3 col-xl-2 flex_noMargin__2nisT flex_noPadding__1fg2H'}\n",
        "    boxes = soup.find_all('div', attrs={'class' : page_boxes['Wallmart']})\n",
        "\n",
        "    return boxes"
      ],
      "execution_count": 26,
      "outputs": []
    },
    {
      "cell_type": "code",
      "metadata": {
        "id": "H38fbAOCbaHj",
        "colab_type": "code",
        "colab": {}
      },
      "source": [
        "!export PATH=$PATH:'/path to geckodriver/'"
      ],
      "execution_count": 44,
      "outputs": []
    },
    {
      "cell_type": "code",
      "metadata": {
        "id": "nfpfjl4-QY1m",
        "colab_type": "code",
        "colab": {
          "base_uri": "https://localhost:8080/",
          "height": 441
        },
        "outputId": "ab477f11-ecb4-436b-96b6-5ebc981bf8c7"
      },
      "source": [
        "adapted_user_request = user_request.replace(' ',replacer['Mercado Libre'])\n",
        "wallmart_url = 'https://www.walmart.com.mx/productos?Ntt=audifonos%20inalambricos'\n",
        "\n",
        "driver = webdriver.Firefox()\n",
        "driver.get('wallmart_url')\n",
        "\n",
        "html = driver.page_source\n",
        "soup = BeautifulSoup(html)\n",
        "\n",
        "wallmart_soup, wallmart_status = extract_soup(wallmart_url, 0, preview=True)\n",
        "print('Wallmart url status: ', wallmart_status)\n",
        "\n",
        "\n",
        "page_boxes = {'Wallmart': 'col-xs-6 col-md-4 col-lg-3 col-xl-2 flex_noMargin__2nisT flex_noPadding__1fg2H'}\n",
        "boxes = wallmart_soup.find_all('div', attrs={'class' : 'col-xs-6 col-md-4 col-lg-3 col-xl-2 flex_noMargin__2nisT flex_noPadding__1fg2H'})\n",
        "print(len(wallmart_boxes))"
      ],
      "execution_count": 45,
      "outputs": [
        {
          "output_type": "error",
          "ename": "WebDriverException",
          "evalue": "ignored",
          "traceback": [
            "\u001b[0;31m---------------------------------------------------------------------------\u001b[0m",
            "\u001b[0;31mFileNotFoundError\u001b[0m                         Traceback (most recent call last)",
            "\u001b[0;32m/usr/local/lib/python3.6/dist-packages/selenium/webdriver/common/service.py\u001b[0m in \u001b[0;36mstart\u001b[0;34m(self)\u001b[0m\n\u001b[1;32m     75\u001b[0m                                             \u001b[0mstderr\u001b[0m\u001b[0;34m=\u001b[0m\u001b[0mself\u001b[0m\u001b[0;34m.\u001b[0m\u001b[0mlog_file\u001b[0m\u001b[0;34m,\u001b[0m\u001b[0;34m\u001b[0m\u001b[0;34m\u001b[0m\u001b[0m\n\u001b[0;32m---> 76\u001b[0;31m                                             stdin=PIPE)\n\u001b[0m\u001b[1;32m     77\u001b[0m         \u001b[0;32mexcept\u001b[0m \u001b[0mTypeError\u001b[0m\u001b[0;34m:\u001b[0m\u001b[0;34m\u001b[0m\u001b[0;34m\u001b[0m\u001b[0m\n",
            "\u001b[0;32m/usr/lib/python3.6/subprocess.py\u001b[0m in \u001b[0;36m__init__\u001b[0;34m(self, args, bufsize, executable, stdin, stdout, stderr, preexec_fn, close_fds, shell, cwd, env, universal_newlines, startupinfo, creationflags, restore_signals, start_new_session, pass_fds, encoding, errors)\u001b[0m\n\u001b[1;32m    728\u001b[0m                                 \u001b[0merrread\u001b[0m\u001b[0;34m,\u001b[0m \u001b[0merrwrite\u001b[0m\u001b[0;34m,\u001b[0m\u001b[0;34m\u001b[0m\u001b[0;34m\u001b[0m\u001b[0m\n\u001b[0;32m--> 729\u001b[0;31m                                 restore_signals, start_new_session)\n\u001b[0m\u001b[1;32m    730\u001b[0m         \u001b[0;32mexcept\u001b[0m\u001b[0;34m:\u001b[0m\u001b[0;34m\u001b[0m\u001b[0;34m\u001b[0m\u001b[0m\n",
            "\u001b[0;32m/usr/lib/python3.6/subprocess.py\u001b[0m in \u001b[0;36m_execute_child\u001b[0;34m(self, args, executable, preexec_fn, close_fds, pass_fds, cwd, env, startupinfo, creationflags, shell, p2cread, p2cwrite, c2pread, c2pwrite, errread, errwrite, restore_signals, start_new_session)\u001b[0m\n\u001b[1;32m   1363\u001b[0m                             \u001b[0merr_msg\u001b[0m \u001b[0;34m+=\u001b[0m \u001b[0;34m': '\u001b[0m \u001b[0;34m+\u001b[0m \u001b[0mrepr\u001b[0m\u001b[0;34m(\u001b[0m\u001b[0merr_filename\u001b[0m\u001b[0;34m)\u001b[0m\u001b[0;34m\u001b[0m\u001b[0;34m\u001b[0m\u001b[0m\n\u001b[0;32m-> 1364\u001b[0;31m                     \u001b[0;32mraise\u001b[0m \u001b[0mchild_exception_type\u001b[0m\u001b[0;34m(\u001b[0m\u001b[0merrno_num\u001b[0m\u001b[0;34m,\u001b[0m \u001b[0merr_msg\u001b[0m\u001b[0;34m,\u001b[0m \u001b[0merr_filename\u001b[0m\u001b[0;34m)\u001b[0m\u001b[0;34m\u001b[0m\u001b[0;34m\u001b[0m\u001b[0m\n\u001b[0m\u001b[1;32m   1365\u001b[0m                 \u001b[0;32mraise\u001b[0m \u001b[0mchild_exception_type\u001b[0m\u001b[0;34m(\u001b[0m\u001b[0merr_msg\u001b[0m\u001b[0;34m)\u001b[0m\u001b[0;34m\u001b[0m\u001b[0;34m\u001b[0m\u001b[0m\n",
            "\u001b[0;31mFileNotFoundError\u001b[0m: [Errno 2] No such file or directory: 'geckodriver': 'geckodriver'",
            "\nDuring handling of the above exception, another exception occurred:\n",
            "\u001b[0;31mWebDriverException\u001b[0m                        Traceback (most recent call last)",
            "\u001b[0;32m<ipython-input-45-6b1b54e7a93d>\u001b[0m in \u001b[0;36m<module>\u001b[0;34m()\u001b[0m\n\u001b[1;32m      2\u001b[0m \u001b[0mwallmart_url\u001b[0m \u001b[0;34m=\u001b[0m \u001b[0;34m'https://www.walmart.com.mx/productos?Ntt=audifonos%20inalambricos'\u001b[0m\u001b[0;34m\u001b[0m\u001b[0;34m\u001b[0m\u001b[0m\n\u001b[1;32m      3\u001b[0m \u001b[0;34m\u001b[0m\u001b[0m\n\u001b[0;32m----> 4\u001b[0;31m \u001b[0mdriver\u001b[0m \u001b[0;34m=\u001b[0m \u001b[0mwebdriver\u001b[0m\u001b[0;34m.\u001b[0m\u001b[0mFirefox\u001b[0m\u001b[0;34m(\u001b[0m\u001b[0;34m)\u001b[0m\u001b[0;34m\u001b[0m\u001b[0;34m\u001b[0m\u001b[0m\n\u001b[0m\u001b[1;32m      5\u001b[0m \u001b[0mdriver\u001b[0m\u001b[0;34m.\u001b[0m\u001b[0mget\u001b[0m\u001b[0;34m(\u001b[0m\u001b[0;34m'wallmart_url'\u001b[0m\u001b[0;34m)\u001b[0m\u001b[0;34m\u001b[0m\u001b[0;34m\u001b[0m\u001b[0m\n\u001b[1;32m      6\u001b[0m \u001b[0;34m\u001b[0m\u001b[0m\n",
            "\u001b[0;32m/usr/local/lib/python3.6/dist-packages/selenium/webdriver/firefox/webdriver.py\u001b[0m in \u001b[0;36m__init__\u001b[0;34m(self, firefox_profile, firefox_binary, timeout, capabilities, proxy, executable_path, options, service_log_path, firefox_options, service_args, desired_capabilities, log_path, keep_alive)\u001b[0m\n\u001b[1;32m    162\u001b[0m                 \u001b[0mservice_args\u001b[0m\u001b[0;34m=\u001b[0m\u001b[0mservice_args\u001b[0m\u001b[0;34m,\u001b[0m\u001b[0;34m\u001b[0m\u001b[0;34m\u001b[0m\u001b[0m\n\u001b[1;32m    163\u001b[0m                 log_path=service_log_path)\n\u001b[0;32m--> 164\u001b[0;31m             \u001b[0mself\u001b[0m\u001b[0;34m.\u001b[0m\u001b[0mservice\u001b[0m\u001b[0;34m.\u001b[0m\u001b[0mstart\u001b[0m\u001b[0;34m(\u001b[0m\u001b[0;34m)\u001b[0m\u001b[0;34m\u001b[0m\u001b[0;34m\u001b[0m\u001b[0m\n\u001b[0m\u001b[1;32m    165\u001b[0m \u001b[0;34m\u001b[0m\u001b[0m\n\u001b[1;32m    166\u001b[0m             \u001b[0mcapabilities\u001b[0m\u001b[0;34m.\u001b[0m\u001b[0mupdate\u001b[0m\u001b[0;34m(\u001b[0m\u001b[0moptions\u001b[0m\u001b[0;34m.\u001b[0m\u001b[0mto_capabilities\u001b[0m\u001b[0;34m(\u001b[0m\u001b[0;34m)\u001b[0m\u001b[0;34m)\u001b[0m\u001b[0;34m\u001b[0m\u001b[0;34m\u001b[0m\u001b[0m\n",
            "\u001b[0;32m/usr/local/lib/python3.6/dist-packages/selenium/webdriver/common/service.py\u001b[0m in \u001b[0;36mstart\u001b[0;34m(self)\u001b[0m\n\u001b[1;32m     81\u001b[0m                 raise WebDriverException(\n\u001b[1;32m     82\u001b[0m                     \"'%s' executable needs to be in PATH. %s\" % (\n\u001b[0;32m---> 83\u001b[0;31m                         os.path.basename(self.path), self.start_error_message)\n\u001b[0m\u001b[1;32m     84\u001b[0m                 )\n\u001b[1;32m     85\u001b[0m             \u001b[0;32melif\u001b[0m \u001b[0merr\u001b[0m\u001b[0;34m.\u001b[0m\u001b[0merrno\u001b[0m \u001b[0;34m==\u001b[0m \u001b[0merrno\u001b[0m\u001b[0;34m.\u001b[0m\u001b[0mEACCES\u001b[0m\u001b[0;34m:\u001b[0m\u001b[0;34m\u001b[0m\u001b[0;34m\u001b[0m\u001b[0m\n",
            "\u001b[0;31mWebDriverException\u001b[0m: Message: 'geckodriver' executable needs to be in PATH. \n"
          ]
        }
      ]
    },
    {
      "cell_type": "markdown",
      "metadata": {
        "id": "aO_0S-J4NaSN",
        "colab_type": "text"
      },
      "source": [
        "## Amazon"
      ]
    },
    {
      "cell_type": "code",
      "metadata": {
        "id": "RzSfUp1wNdWd",
        "colab_type": "code",
        "colab": {}
      },
      "source": [
        "amz_user_request = user_request.replace(' ', '+')\n",
        "amz_url = f'https://www.amazon.com.{country}/s?k={amz_user_request}'\n",
        "amz_soup, amz_status = extract_soup(amz_url, 0, preview=False)\n",
        "print(amz_status)"
      ],
      "execution_count": null,
      "outputs": []
    },
    {
      "cell_type": "markdown",
      "metadata": {
        "id": "MsQqU46JQf16",
        "colab_type": "text"
      },
      "source": [
        "## Mercado Libre"
      ]
    },
    {
      "cell_type": "code",
      "metadata": {
        "id": "DYjPe2VgQiKL",
        "colab_type": "code",
        "colab": {}
      },
      "source": [
        "ml_user_request_1 = user_request.replace(' ','-')\n",
        "ml_user_request_2 = user_request.replace(' ','%20')\n",
        "ml_url = f'https://listado.mercadolibre.com.{country}/{ml_user_request_1}#D[A:{ml_user_request_2}]'\n",
        "ml_soup, ml_status = extract_soup(ml_url,0, preview=False)\n",
        "print(ml_status)"
      ],
      "execution_count": null,
      "outputs": []
    },
    {
      "cell_type": "code",
      "metadata": {
        "id": "4-MaR6kOt6lY",
        "colab_type": "code",
        "colab": {}
      },
      "source": [
        ""
      ],
      "execution_count": null,
      "outputs": []
    }
  ]
}